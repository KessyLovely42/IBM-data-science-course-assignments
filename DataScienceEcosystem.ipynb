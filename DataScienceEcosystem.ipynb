{
 "cells": [
  {
   "cell_type": "markdown",
   "metadata": {},
   "source": [
    "<center>\n",
    "    <img src=\"https://cf-courses-data.s3.us.cloud-object-storage.appdomain.cloud/IBMDeveloperSkillsNetwork-DS0105EN-SkillsNetwork/labs/Module2/images/SN_web_lightmode.png\" width=\"300\" alt=\"cognitiveclass.ai logo\">\n",
    "</center>\n"
   ]
  },
  {
   "cell_type": "markdown",
   "metadata": {},
   "source": [
    "#### Add your code below following the instructions given in the course\n"
   ]
  },
  {
   "cell_type": "markdown",
   "metadata": {},
   "source": [
    "<h1><span style=\"color:blue\"> Ex.2: </span> Data Science Tools and Ecosystem</h1>"
   ]
  },
  {
   "cell_type": "markdown",
   "metadata": {},
   "source": [
    "<span style=\"color: blue\"> Ex.3: </span> In this notebook, Data Science Tools and Ecosystem are summarized.\n",
    "\n"
   ]
  },
  {
   "cell_type": "markdown",
   "metadata": {
    "tags": []
   },
   "source": [
    "\n",
    "<h3><span style=\"color: blue\"> Ex.4:</span> Some of the popular languages that Data Scientists use are:</h3>\n",
    "<ol> \n",
    "    <li>Python </li>\n",
    "    <li>R</li>\n",
    "    <li>Matlab </li>\n",
    "</ol>"
   ]
  },
  {
   "cell_type": "markdown",
   "metadata": {},
   "source": [
    "<h3><span style=\"color: blue\"> Ex.5:</span> Some of the commonly used libraries used by Data Scientists include:</h3>\n",
    "<ol> \n",
    "    <li>Pandas </li>\n",
    "    <li>Numpy</li>\n",
    "    <li>Matplotlib</li>\n",
    "</ol>"
   ]
  },
  {
   "cell_type": "markdown",
   "metadata": {},
   "source": [
    "\n",
    "<table><span style=\"color: blue\"> Ex.6:</span>\n",
    "    <tr>\n",
    "        <th>Data Science Tools</th>\n",
    "    </tr>\n",
    "    <tr>\n",
    "        <td>Jupyter notebook </td>\n",
    "    </tr>\n",
    "    <tr>\n",
    "        <td>VScode </td>\n",
    "    </tr>\n",
    "    <tr>\n",
    "        <td>GoogleColab</td>\n",
    "    </tr>    \n",
    "</table>"
   ]
  },
  {
   "cell_type": "markdown",
   "metadata": {},
   "source": [
    "<h3><span style=\"color: blue\"> Ex.7:</span> Below are a few examples of evaluating arithmetic expressions in Python.</h3>"
   ]
  },
  {
   "cell_type": "code",
   "execution_count": 7,
   "metadata": {
    "tags": []
   },
   "outputs": [
    {
     "name": "stdout",
     "output_type": "stream",
     "text": [
      "17\n"
     ]
    }
   ],
   "source": [
    "#Ex8: This a simple arithmetic expression to mutiply then add integers\n",
    "def excercise_7_math():\n",
    "    return (3*4)+5\n",
    "\n",
    "print(excercise_7_math())"
   ]
  },
  {
   "cell_type": "code",
   "execution_count": 46,
   "metadata": {
    "tags": []
   },
   "outputs": [
    {
     "name": "stdout",
     "output_type": "stream",
     "text": [
      "1h:59m:50s\n"
     ]
    }
   ],
   "source": [
    "#Ex9: This will convert 200 minutes to hours by diving by 60\n",
    "def convert_minutes_to_hours(x):\n",
    "    hours = int(x//60)\n",
    "    minutes = x%60\n",
    "    seconds = (minutes*10)%60\n",
    "    if hours<1:\n",
    "        return f\"{x} is less than an hour\"\n",
    "    else:\n",
    "        return f\"{hours}h:{minutes}m:{seconds}s\" if hours == 1 else f\"{hours}h:{minutes}m:{seconds}s\"\n",
    "\n",
    "print (convert_minutes_to_hours(119))"
   ]
  },
  {
   "cell_type": "markdown",
   "metadata": {},
   "source": [
    "<h4><span style=\"color: blue\"> Ex.10:</span> <strong>Objectives:</strong></h4>\n",
    "<ul> \n",
    "    <li>List popular data science languages </li>\n",
    "    <li>List popular data science libraries </li>\n",
    "    <li>List popular data science tools </li>\n",
    "</ul>"
   ]
  },
  {
   "cell_type": "markdown",
   "metadata": {},
   "source": [
    "<h4><span style=\"color: blue\"> Ex.11:</span> <strong>Author: Kessy Okundia</strong></h4>"
   ]
  },
  {
   "cell_type": "code",
   "execution_count": null,
   "metadata": {},
   "outputs": [],
   "source": []
  }
 ],
 "metadata": {
  "kernelspec": {
   "display_name": "Python",
   "language": "python",
   "name": "conda-env-python-py"
  },
  "language_info": {
   "codemirror_mode": {
    "name": "ipython",
    "version": 3
   },
   "file_extension": ".py",
   "mimetype": "text/x-python",
   "name": "python",
   "nbconvert_exporter": "python",
   "pygments_lexer": "ipython3",
   "version": "3.7.12"
  }
 },
 "nbformat": 4,
 "nbformat_minor": 4
}
